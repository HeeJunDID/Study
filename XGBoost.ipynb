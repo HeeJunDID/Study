{
 "cells": [
  {
   "cell_type": "markdown",
   "id": "88f3b453",
   "metadata": {},
   "source": [
    "# 1.XGBoost(eXtra Gradient Boost) 개요"
   ]
  },
  {
   "cell_type": "markdown",
   "id": "7f94f3ce",
   "metadata": {},
   "source": [
    "트리 기반의 알고리즘의 앙상블 학습에서 각광받는 알고리즘 중 하나이다.  \n",
    "GBM(Gradient Boosting Machine)에 기반하고 있지만, GBM의 단점인 느린 수행시간, 과적합 규제 등을 해결한 알고리즘이다."
   ]
  },
  {
   "cell_type": "markdown",
   "id": "3f021bdf",
   "metadata": {},
   "source": [
    "**XGBoost의 장점**\n",
    "1. 뛰어난 예측 성능  \n",
    "2. GBM 대비 빠른 수행 시간  \n",
    "3. 과적합 규제(Overfitting Regularization)  \n",
    "4. Tree pruning(트리 가지치기) : 긍정 이득이 없는 분할을 가지치기해서 분할 수를 줄임  \n",
    "5. 자체 내장된 교차 검증  \n",
    "    * 반복 수행시마다 내부적으로 교차검증을 수행해 최적화된 반복 수행횟루를 가질 수 있음  \n",
    "    * 지정된 반복횟수가 아닌 교차검증을 통해 평가 데이터셋의 평가 값이 최적화되면 반복을 중간에 멈출 수 있는 기능이 있다.  \n",
    "6. 결손값 자체 처리  \n",
    "  \n",
    "XGBoost는 독자적인 XGBoost 모듈과 사이킷런 프레임워크 기반의 모듈이 존재한다.  \n",
    "독자적인 모듈은 고유의 API와 하이퍼파라미터를 사용하지만, 사이킷런 기반 모듈에서는 다른 Estimator와 동일한 사용법을 가지고 있다."
   ]
  },
  {
   "cell_type": "code",
   "execution_count": null,
   "id": "a153c8fa",
   "metadata": {},
   "outputs": [],
   "source": []
  },
  {
   "cell_type": "code",
   "execution_count": null,
   "id": "510b877c",
   "metadata": {},
   "outputs": [],
   "source": []
  }
 ],
 "metadata": {
  "kernelspec": {
   "display_name": "Python 3",
   "language": "python",
   "name": "python3"
  },
  "language_info": {
   "codemirror_mode": {
    "name": "ipython",
    "version": 3
   },
   "file_extension": ".py",
   "mimetype": "text/x-python",
   "name": "python",
   "nbconvert_exporter": "python",
   "pygments_lexer": "ipython3",
   "version": "3.8.8"
  }
 },
 "nbformat": 4,
 "nbformat_minor": 5
}
