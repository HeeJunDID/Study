{
 "cells": [
  {
   "cell_type": "code",
   "execution_count": 1,
   "id": "997055b3",
   "metadata": {},
   "outputs": [],
   "source": [
    "s = \"aabbaccc\""
   ]
  },
  {
   "cell_type": "code",
   "execution_count": 31,
   "id": "afa36e77",
   "metadata": {},
   "outputs": [
    {
     "name": "stdout",
     "output_type": "stream",
     "text": [
      "a2b2a3c\n",
      "aabbac\n",
      "hi cc\n",
      "aabcc\n",
      "aabb\n",
      "hi ccc\n",
      "ccc\n",
      "hi cc\n",
      "cc\n",
      "hi c\n",
      "c\n",
      "\n"
     ]
    }
   ],
   "source": [
    "s= \"aabbaccc\"\n",
    "for i in range(1,len(s)+1):\n",
    "    temp = ''\n",
    "    past = ''\n",
    "    c = 0\n",
    "    for j in range(i,len(s)+i+1,i ):\n",
    "        if len(s[j-i:j]) > 0:\n",
    "            if past == s[j-i:j]:\n",
    "                if j == len(s):\n",
    "                    temp += str(c) + past\n",
    "                c += 1\n",
    "                \n",
    "            else:\n",
    "                if c > 1:\n",
    "                    temp += str(c) + past\n",
    "                else:\n",
    "                    if j-i == 0:\n",
    "                        pass\n",
    "                    else:\n",
    "                        temp += past\n",
    "        if j + i > len(s) and len(s[j:]) > 0:\n",
    "            temp += s[j:]\n",
    "            print('hi',s[j:])\n",
    "            break\n",
    "        past = s[j-i:j]\n",
    "    print(temp)\n",
    "        \n"
   ]
  },
  {
   "cell_type": "code",
   "execution_count": 92,
   "id": "b9785c2a",
   "metadata": {},
   "outputs": [
    {
     "name": "stdout",
     "output_type": "stream",
     "text": [
      "1\n",
      "fianl 2a2b\n",
      "2\n",
      "fianl \n",
      "3\n",
      "short cc\n",
      "fianl cc\n",
      "4\n",
      "fianl \n",
      "5\n",
      "short ccc\n",
      "fianl ccc\n",
      "6\n",
      "short cc\n",
      "fianl cc\n",
      "7\n",
      "short c\n",
      "fianl c\n",
      "8\n",
      "fianl \n"
     ]
    }
   ],
   "source": [
    "interval = 1\n",
    "    \n",
    "while interval <= len(s):\n",
    "    start = 0\n",
    "    end = interval\n",
    "    temp = ''\n",
    "    c = 1\n",
    "    last = ''\n",
    "    print(interval)\n",
    "    while True:\n",
    "        if len(s[start:end]) == interval:\n",
    "            if start != 0 and last == s[start:end]:\n",
    "                c += 1\n",
    "            elif start != 0 and last != s[start:end]:\n",
    "                if c > 1:\n",
    "                    temp += str(c)+last\n",
    "                    c = 1\n",
    "\n",
    "                \n",
    "        elif len(s[start:end]) < interval:\n",
    "            print('short', s[start:end])\n",
    "            temp += s[start:end]\n",
    "        if end >= len(s):\n",
    "            break\n",
    "        last = s[start:end]\n",
    "        start += interval\n",
    "        end += interval\n",
    "    interval += 1\n",
    "    print('fianl',temp)\n"
   ]
  },
  {
   "cell_type": "code",
   "execution_count": 94,
   "id": "b4296ee3",
   "metadata": {},
   "outputs": [
    {
     "name": "stdout",
     "output_type": "stream",
     "text": [
      "2a2ba3c\n",
      "aabbaccc\n",
      "aabbaccc\n",
      "aabbaccc\n",
      "7\n"
     ]
    }
   ],
   "source": [
    "answer = len(s)\n",
    "# 1개 단위(step)부터 압축 단위를 늘려가며 확인\n",
    "\n",
    "for step in range(1, len(s)//2+1):\n",
    "    compressed = \"\"\n",
    "    prev = s[0:step] # 앞에서부터 step만큼의 문자열 추출\n",
    "    count = 1\n",
    "    # 단위(step) 크기만큼 증가시키며 이전 문자열과 비교\n",
    "    for j in range(step, len(s), step):\n",
    "        # 이전 상태와 동일하다면 압축 횟수(count) 증가\n",
    "        if prev == s[j:j + step]:\n",
    "            count += 1\n",
    "        # 다른 문자열이 나왔다면 더이상 압축하지 못하는 겨우라면\n",
    "        else:\n",
    "            if count >= 2:\n",
    "                compressed += str(count) + prev\n",
    "            else:\n",
    "                compressed += prev\n",
    "            prev = s[j:j+step] # 다시 상태 초기화\n",
    "            count = 1\n",
    "    #남아 있는 문자열에 대해서 처리\n",
    "    \n",
    "    if count >= 2:\n",
    "        compressed += str(count) + prev\n",
    "    else:\n",
    "        compressed += prev\n",
    "    print(compressed)\n",
    "    answer = min(answer,len(compressed))\n",
    "    \n",
    "print(answer)\n",
    "        "
   ]
  }
 ],
 "metadata": {
  "kernelspec": {
   "display_name": "Python 3",
   "language": "python",
   "name": "python3"
  },
  "language_info": {
   "codemirror_mode": {
    "name": "ipython",
    "version": 3
   },
   "file_extension": ".py",
   "mimetype": "text/x-python",
   "name": "python",
   "nbconvert_exporter": "python",
   "pygments_lexer": "ipython3",
   "version": "3.8.8"
  }
 },
 "nbformat": 4,
 "nbformat_minor": 5
}
