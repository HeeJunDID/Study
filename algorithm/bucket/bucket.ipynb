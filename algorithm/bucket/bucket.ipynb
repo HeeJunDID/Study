{
 "cells": [
  {
   "cell_type": "code",
   "execution_count": 93,
   "id": "8b298aab",
   "metadata": {},
   "outputs": [
    {
     "name": "stdout",
     "output_type": "stream",
     "text": [
      "0\n",
      "{(0, 1), (2, 3)}\n",
      "  \n",
      "1\n",
      "{(0, 1), (2, 3)}\n",
      "couple 0 1\n",
      "couple 2 3\n",
      "{(1, 2), (0, 3)}\n",
      "  \n",
      "2\n",
      "{(1, 2), (0, 3)}\n",
      "couple 1 2\n",
      "couple 0 3\n",
      "{(0, 1), (2, 3)}\n",
      "  \n",
      "0\n"
     ]
    }
   ],
   "source": [
    "from collections import defaultdict\n",
    "\n",
    "rounds = [[\"b\", \"a\", \"d\", \"c\"],[\"d\", \"c\", \"b\", \"a\"],[\"b\", \"a\", \"d\", \"c\"]]\n",
    "\n",
    "\n",
    "\n",
    "\n",
    "\n",
    "temp = {\"a\":0,\"b\":1,\"c\":2,\"d\":3}\n",
    "reverse_temp = dict(map(reversed, temp.items()))\n",
    "couple_mat = set()\n",
    "cnt = 0\n",
    "for idx, rnd in enumerate(rounds):\n",
    "    print(idx)\n",
    "    rnd = list(map(lambda x : temp[x], rnd))\n",
    "    \n",
    "    if len(couple_mat) > 0 and idx > 0:\n",
    "        print(couple_mat)\n",
    "        for couple in couple_mat:\n",
    "            x, y = couple\n",
    "            print('couple', x,y)\n",
    "            if rnd[x] == y:\n",
    "                cnt += 1\n",
    "            if rnd[y] == x:\n",
    "                cnt += 1\n",
    "    if idx > 0:\n",
    "        couple_mat = set()\n",
    "\n",
    "    for i, r in enumerate(rnd):\n",
    "        \n",
    "        if rnd[r] == i and i != r:\n",
    "            couple_mat.add(tuple(sorted([i,r])))\n",
    "        if i == r:\n",
    "            cnt += 1\n",
    "    print(couple_mat)\n",
    "    print('  ')\n",
    "print(cnt)"
   ]
  },
  {
   "cell_type": "code",
   "execution_count": 114,
   "id": "3ec67d5f",
   "metadata": {
    "scrolled": true
   },
   "outputs": [
    {
     "name": "stdout",
     "output_type": "stream",
     "text": [
      "50120\n"
     ]
    }
   ],
   "source": [
    "beds = [[2, 3, 40000], [2, 5, 20000]]\n",
    "tables = [[1, 1, 30000]]\n",
    "cost = 10\n",
    "INF = 1e9\n",
    "min_cost = INF\n",
    "min_x, min_y = 0, 0\n",
    "for bed in beds:\n",
    "    bed_x,bed_y,bed_cost = bed\n",
    "    for table in tables:\n",
    "        table_x, table_y, table_cost = table\n",
    "        if min(\n",
    "        (bed_x * (abs(bed_y-table_y))),\n",
    "        ((abs(bed_x-table_x)) * table_y),\n",
    "        (bed_x * (abs(bed_y-table_x))),\n",
    "        ((abs(bed_x-table_y)) * table_x),\n",
    "        ) == bed_x * (abs(bed_y-table_y)):\n",
    "            \n",
    "            min_x,min_y = bed_x+table_x, max(bed_y, table_y)\n",
    "        elif min(\n",
    "        (bed_x * (abs(bed_y-table_y))),\n",
    "        ((abs(bed_x-table_x)) * table_y),\n",
    "        (bed_x * (abs(bed_y-table_x))),\n",
    "        ((abs(bed_x-table_y)) * table_x),\n",
    "        ) == abs(bed_x-table_x) * table_y:\n",
    "            min_x,min_y = max(bed_x,table_x), table_y+bed_y\n",
    "        elif min(\n",
    "        (bed_x * (abs(bed_y-table_y))),\n",
    "        ((abs(bed_x-table_x)) * table_y),\n",
    "        (bed_x * (abs(bed_y-table_x))),\n",
    "        ((abs(bed_x-table_y)) * table_x),\n",
    "        ) == bed_x * (abs(bed_y-table_x)):\n",
    "            min_x, min_y = bed_x + table_y, max(bed_y, table_x)\n",
    "        elif min(\n",
    "        (bed_x * (abs(bed_y-table_y))),\n",
    "        ((abs(bed_x-table_x)) * table_y),\n",
    "        (bed_x * (abs(bed_y-table_x))),\n",
    "        ((abs(bed_x-table_y)) * table_x),\n",
    "        ) == (abs(bed_x-table_y)) * table_x:\n",
    "            min_x, min_y = max(bed_x, table_x), table_x + bed_y\n",
    "        min_cost = min(min_cost, min_x*min_y*cost + bed_cost + table_cost)\n",
    "        \n",
    "                                              \n",
    "                                            \n",
    "        \n",
    "print(min_cost)"
   ]
  }
 ],
 "metadata": {
  "kernelspec": {
   "display_name": "Python 3",
   "language": "python",
   "name": "python3"
  },
  "language_info": {
   "codemirror_mode": {
    "name": "ipython",
    "version": 3
   },
   "file_extension": ".py",
   "mimetype": "text/x-python",
   "name": "python",
   "nbconvert_exporter": "python",
   "pygments_lexer": "ipython3",
   "version": "3.8.8"
  }
 },
 "nbformat": 4,
 "nbformat_minor": 5
}
